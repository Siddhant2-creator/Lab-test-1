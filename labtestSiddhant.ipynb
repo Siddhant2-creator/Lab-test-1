{
 "cells": [
  {
   "cell_type": "code",
   "execution_count": 2,
   "id": "afeaf1b9-5764-4261-a4b6-fbf58f0ac9bf",
   "metadata": {},
   "outputs": [
    {
     "name": "stdout",
     "output_type": "stream",
     "text": [
      "SIDDHANT SIROHI - 22103273 - B9\n"
     ]
    }
   ],
   "source": [
    "print(\"SIDDHANT SIROHI - 22103273 - B9\")"
   ]
  },
  {
   "cell_type": "code",
   "execution_count": 3,
   "id": "92e29ad5-2875-45b4-8847-605fd9c6231c",
   "metadata": {},
   "outputs": [
    {
     "name": "stdin",
     "output_type": "stream",
     "text": [
      "Enter the number of employees :  5\n"
     ]
    }
   ],
   "source": [
    "n = int(input(\"Enter the number of employees : \"))"
   ]
  },
  {
   "cell_type": "code",
   "execution_count": 26,
   "id": "eed75b7a-049c-42cf-aca6-fd0fcad2ff0b",
   "metadata": {},
   "outputs": [
    {
     "name": "stdin",
     "output_type": "stream",
     "text": [
      "Enter the employee id :  12\n",
      "Enter the employee id :  13\n",
      "Enter the employee id :  14\n",
      "Enter the employee id :  15\n",
      "Enter the employee id :  16\n"
     ]
    }
   ],
   "source": [
    "emp = []\n",
    "for i in range(n):\n",
    "    emp_id = int(input(\"Enter the employee id : \"))\n",
    "    emp.append(emp_id)"
   ]
  },
  {
   "cell_type": "code",
   "execution_count": 27,
   "id": "27c7bd10-862c-4dfd-9ead-5394b2e277b0",
   "metadata": {},
   "outputs": [],
   "source": [
    "import numpy as np"
   ]
  },
  {
   "cell_type": "code",
   "execution_count": 30,
   "id": "69a50ed5-e78a-4f0b-8ccc-c9292a573785",
   "metadata": {},
   "outputs": [
    {
     "name": "stdout",
     "output_type": "stream",
     "text": [
      "[12 13 14 15 16]\n"
     ]
    }
   ],
   "source": [
    "Z = np.array(emp)\n",
    "print(Z)"
   ]
  },
  {
   "cell_type": "code",
   "execution_count": 32,
   "id": "493cebf1-eadf-418f-912c-75d8117b83fa",
   "metadata": {},
   "outputs": [],
   "source": [
    "attendance = np.zeros(len(emp), dtype = 'i')\n",
    "salary = np.zeros(len(emp), dtype = 'i')\n",
    "perf = np.zeros(len(emp), dtype = 'i')"
   ]
  },
  {
   "cell_type": "code",
   "execution_count": 40,
   "id": "820f29c2-5e22-4d9c-8e09-92204b28647b",
   "metadata": {},
   "outputs": [],
   "source": [
    "def cng_att(str):\n",
    "    i = np.where(Z == str)\n",
    "    print(\"Emp ID : \", Z[i])\n",
    "    n = int(input(\"Enter the attendance :\"))\n",
    "    attendance[i] = n\n",
    "    print(attendance)"
   ]
  },
  {
   "cell_type": "code",
   "execution_count": 43,
   "id": "1f4c6885-a8b4-4416-89a0-21b977022ae6",
   "metadata": {},
   "outputs": [],
   "source": [
    "def performance(str):\n",
    "    i = np.where(Z == str)\n",
    "    print(\"Emp ID : \", Z[i])\n",
    "    n = int(input(\"Enter the performance out of 10 :\"))\n",
    "    perf[i] = n\n",
    "    print(perf)"
   ]
  },
  {
   "cell_type": "code",
   "execution_count": 49,
   "id": "5dd7fb3d-e462-4c1f-bed7-73b524461bbf",
   "metadata": {},
   "outputs": [
    {
     "name": "stdout",
     "output_type": "stream",
     "text": [
      " Salary : [12000 25000 23000 21000 12000]\n"
     ]
    }
   ],
   "source": [
    "salary = np.array([12000, 25000, 23000, 21000, 12000])\n",
    "print(\" Salary : \", end = \"\")\n",
    "print(salary)"
   ]
  },
  {
   "cell_type": "code",
   "execution_count": 50,
   "id": "72a017f8-320d-422b-85ba-33dcbccdd138",
   "metadata": {},
   "outputs": [
    {
     "name": "stdout",
     "output_type": "stream",
     "text": [
      "The average salary of employees is :  18600.0\n"
     ]
    }
   ],
   "source": [
    "print(\"The average salary of employees is : \", np.sum(salary)/len(Z))"
   ]
  },
  {
   "cell_type": "code",
   "execution_count": 51,
   "id": "2442de99-c8b2-45fb-9ce0-9cb4b296561a",
   "metadata": {},
   "outputs": [],
   "source": [
    "maxi = np.max(salary)\n",
    "mini = np.min(salary)"
   ]
  },
  {
   "cell_type": "code",
   "execution_count": 53,
   "id": "3ffde196-7632-48bf-9d4d-6990c1e9224f",
   "metadata": {},
   "outputs": [
    {
     "name": "stdout",
     "output_type": "stream",
     "text": [
      " Employee [13] has the highest salary\n",
      " Employee [12 16] has the lowest salary\n"
     ]
    }
   ],
   "source": [
    "imaxi = np.where(salary == maxi)\n",
    "imini = np.where(salary == mini)\n",
    "print(f\" Employee {Z[imaxi]} has the highest salary\")\n",
    "print(f\" Employee {Z[imini]} has the lowest salary\")"
   ]
  },
  {
   "cell_type": "code",
   "execution_count": 56,
   "id": "a3a3282c-b059-422b-b0e5-f37b59e4f494",
   "metadata": {},
   "outputs": [
    {
     "name": "stdout",
     "output_type": "stream",
     "text": [
      " 1 --> Change attendance : \n",
      " 2 --> Change performance : \n"
     ]
    },
    {
     "name": "stdin",
     "output_type": "stream",
     "text": [
      " 1\n"
     ]
    },
    {
     "name": "stdout",
     "output_type": "stream",
     "text": [
      " Enter employee id : "
     ]
    },
    {
     "name": "stdin",
     "output_type": "stream",
     "text": [
      " 12\n"
     ]
    },
    {
     "name": "stdout",
     "output_type": "stream",
     "text": [
      "Emp ID :  [12]\n"
     ]
    },
    {
     "name": "stdin",
     "output_type": "stream",
     "text": [
      "Enter the attendance : 75\n"
     ]
    },
    {
     "name": "stdout",
     "output_type": "stream",
     "text": [
      "[75  0  0  0  0]\n",
      " Do you want to keep editing y/n (1/0) "
     ]
    },
    {
     "name": "stdin",
     "output_type": "stream",
     "text": [
      " 1\n"
     ]
    },
    {
     "name": "stdout",
     "output_type": "stream",
     "text": [
      " 1 --> Change attendance : \n",
      " 2 --> Change performance : \n"
     ]
    },
    {
     "name": "stdin",
     "output_type": "stream",
     "text": [
      " 1\n"
     ]
    },
    {
     "name": "stdout",
     "output_type": "stream",
     "text": [
      " Enter employee id : "
     ]
    },
    {
     "name": "stdin",
     "output_type": "stream",
     "text": [
      " 13\n"
     ]
    },
    {
     "name": "stdout",
     "output_type": "stream",
     "text": [
      "Emp ID :  [13]\n"
     ]
    },
    {
     "name": "stdin",
     "output_type": "stream",
     "text": [
      "Enter the attendance : 87\n"
     ]
    },
    {
     "name": "stdout",
     "output_type": "stream",
     "text": [
      "[75 87  0  0  0]\n",
      " Do you want to keep editing y/n (1/0) "
     ]
    },
    {
     "name": "stdin",
     "output_type": "stream",
     "text": [
      " 1\n"
     ]
    },
    {
     "name": "stdout",
     "output_type": "stream",
     "text": [
      " 1 --> Change attendance : \n",
      " 2 --> Change performance : \n"
     ]
    },
    {
     "name": "stdin",
     "output_type": "stream",
     "text": [
      " 1\n"
     ]
    },
    {
     "name": "stdout",
     "output_type": "stream",
     "text": [
      " Enter employee id : "
     ]
    },
    {
     "name": "stdin",
     "output_type": "stream",
     "text": [
      " 14\n"
     ]
    },
    {
     "name": "stdout",
     "output_type": "stream",
     "text": [
      "Emp ID :  [14]\n"
     ]
    },
    {
     "name": "stdin",
     "output_type": "stream",
     "text": [
      "Enter the attendance : 92\n"
     ]
    },
    {
     "name": "stdout",
     "output_type": "stream",
     "text": [
      "[75 87 92  0  0]\n",
      " Do you want to keep editing y/n (1/0) "
     ]
    },
    {
     "name": "stdin",
     "output_type": "stream",
     "text": [
      " 1\n"
     ]
    },
    {
     "name": "stdout",
     "output_type": "stream",
     "text": [
      " 1 --> Change attendance : \n",
      " 2 --> Change performance : \n"
     ]
    },
    {
     "name": "stdin",
     "output_type": "stream",
     "text": [
      " 1\n"
     ]
    },
    {
     "name": "stdout",
     "output_type": "stream",
     "text": [
      " Enter employee id : "
     ]
    },
    {
     "name": "stdin",
     "output_type": "stream",
     "text": [
      " 15\n"
     ]
    },
    {
     "name": "stdout",
     "output_type": "stream",
     "text": [
      "Emp ID :  [15]\n"
     ]
    },
    {
     "name": "stdin",
     "output_type": "stream",
     "text": [
      "Enter the attendance : 91\n"
     ]
    },
    {
     "name": "stdout",
     "output_type": "stream",
     "text": [
      "[75 87 92 91  0]\n",
      " Do you want to keep editing y/n (1/0) "
     ]
    },
    {
     "name": "stdin",
     "output_type": "stream",
     "text": [
      " 1\n"
     ]
    },
    {
     "name": "stdout",
     "output_type": "stream",
     "text": [
      " 1 --> Change attendance : \n",
      " 2 --> Change performance : \n"
     ]
    },
    {
     "name": "stdin",
     "output_type": "stream",
     "text": [
      " 1\n"
     ]
    },
    {
     "name": "stdout",
     "output_type": "stream",
     "text": [
      " Enter employee id : "
     ]
    },
    {
     "name": "stdin",
     "output_type": "stream",
     "text": [
      " 85\n"
     ]
    },
    {
     "name": "stdout",
     "output_type": "stream",
     "text": [
      "Emp ID :  []\n"
     ]
    },
    {
     "name": "stdin",
     "output_type": "stream",
     "text": [
      "Enter the attendance : -1\n"
     ]
    },
    {
     "name": "stdout",
     "output_type": "stream",
     "text": [
      "[75 87 92 91  0]\n",
      " Do you want to keep editing y/n (1/0) "
     ]
    },
    {
     "name": "stdin",
     "output_type": "stream",
     "text": [
      " 1\n"
     ]
    },
    {
     "name": "stdout",
     "output_type": "stream",
     "text": [
      " 1 --> Change attendance : \n",
      " 2 --> Change performance : \n"
     ]
    },
    {
     "name": "stdin",
     "output_type": "stream",
     "text": [
      " 1\n"
     ]
    },
    {
     "name": "stdout",
     "output_type": "stream",
     "text": [
      " Enter employee id : "
     ]
    },
    {
     "name": "stdin",
     "output_type": "stream",
     "text": [
      " 16\n"
     ]
    },
    {
     "name": "stdout",
     "output_type": "stream",
     "text": [
      "Emp ID :  [16]\n"
     ]
    },
    {
     "name": "stdin",
     "output_type": "stream",
     "text": [
      "Enter the attendance : 87\n"
     ]
    },
    {
     "name": "stdout",
     "output_type": "stream",
     "text": [
      "[75 87 92 91 87]\n",
      " Do you want to keep editing y/n (1/0) "
     ]
    },
    {
     "name": "stdin",
     "output_type": "stream",
     "text": [
      " 1\n"
     ]
    },
    {
     "name": "stdout",
     "output_type": "stream",
     "text": [
      " 1 --> Change attendance : \n",
      " 2 --> Change performance : \n"
     ]
    },
    {
     "name": "stdin",
     "output_type": "stream",
     "text": [
      " 2\n"
     ]
    },
    {
     "name": "stdout",
     "output_type": "stream",
     "text": [
      " Enter employee id : "
     ]
    },
    {
     "name": "stdin",
     "output_type": "stream",
     "text": [
      " 12\n"
     ]
    },
    {
     "name": "stdout",
     "output_type": "stream",
     "text": [
      "Emp ID :  [12]\n"
     ]
    },
    {
     "name": "stdin",
     "output_type": "stream",
     "text": [
      "Enter the attendance : 9\n"
     ]
    },
    {
     "name": "stdout",
     "output_type": "stream",
     "text": [
      "[9 0 0 0 0]\n",
      " Do you want to keep editing y/n (1/0) "
     ]
    },
    {
     "name": "stdin",
     "output_type": "stream",
     "text": [
      " 1\n"
     ]
    },
    {
     "name": "stdout",
     "output_type": "stream",
     "text": [
      " 1 --> Change attendance : \n",
      " 2 --> Change performance : \n"
     ]
    },
    {
     "name": "stdin",
     "output_type": "stream",
     "text": [
      " 2\n"
     ]
    },
    {
     "name": "stdout",
     "output_type": "stream",
     "text": [
      " Enter employee id : "
     ]
    },
    {
     "name": "stdin",
     "output_type": "stream",
     "text": [
      " 13\n"
     ]
    },
    {
     "name": "stdout",
     "output_type": "stream",
     "text": [
      "Emp ID :  [13]\n"
     ]
    },
    {
     "name": "stdin",
     "output_type": "stream",
     "text": [
      "Enter the attendance : 7\n"
     ]
    },
    {
     "name": "stdout",
     "output_type": "stream",
     "text": [
      "[9 7 0 0 0]\n",
      " Do you want to keep editing y/n (1/0) "
     ]
    },
    {
     "name": "stdin",
     "output_type": "stream",
     "text": [
      " 1\n"
     ]
    },
    {
     "name": "stdout",
     "output_type": "stream",
     "text": [
      " 1 --> Change attendance : \n",
      " 2 --> Change performance : \n"
     ]
    },
    {
     "name": "stdin",
     "output_type": "stream",
     "text": [
      " 2\n"
     ]
    },
    {
     "name": "stdout",
     "output_type": "stream",
     "text": [
      " Enter employee id : "
     ]
    },
    {
     "name": "stdin",
     "output_type": "stream",
     "text": [
      " 14\n"
     ]
    },
    {
     "name": "stdout",
     "output_type": "stream",
     "text": [
      "Emp ID :  [14]\n"
     ]
    },
    {
     "name": "stdin",
     "output_type": "stream",
     "text": [
      "Enter the attendance : 9\n"
     ]
    },
    {
     "name": "stdout",
     "output_type": "stream",
     "text": [
      "[9 7 9 0 0]\n",
      " Do you want to keep editing y/n (1/0) "
     ]
    },
    {
     "name": "stdin",
     "output_type": "stream",
     "text": [
      " 1\n"
     ]
    },
    {
     "name": "stdout",
     "output_type": "stream",
     "text": [
      " 1 --> Change attendance : \n",
      " 2 --> Change performance : \n"
     ]
    },
    {
     "name": "stdin",
     "output_type": "stream",
     "text": [
      " 2\n"
     ]
    },
    {
     "name": "stdout",
     "output_type": "stream",
     "text": [
      " Enter employee id : "
     ]
    },
    {
     "name": "stdin",
     "output_type": "stream",
     "text": [
      " 15\n"
     ]
    },
    {
     "name": "stdout",
     "output_type": "stream",
     "text": [
      "Emp ID :  [15]\n"
     ]
    },
    {
     "name": "stdin",
     "output_type": "stream",
     "text": [
      "Enter the attendance : 8\n"
     ]
    },
    {
     "name": "stdout",
     "output_type": "stream",
     "text": [
      "[9 7 9 8 0]\n",
      " Do you want to keep editing y/n (1/0) "
     ]
    },
    {
     "name": "stdin",
     "output_type": "stream",
     "text": [
      " 1\n"
     ]
    },
    {
     "name": "stdout",
     "output_type": "stream",
     "text": [
      " 1 --> Change attendance : \n",
      " 2 --> Change performance : \n"
     ]
    },
    {
     "name": "stdin",
     "output_type": "stream",
     "text": [
      " 2\n"
     ]
    },
    {
     "name": "stdout",
     "output_type": "stream",
     "text": [
      " Enter employee id : "
     ]
    },
    {
     "name": "stdin",
     "output_type": "stream",
     "text": [
      " 16\n"
     ]
    },
    {
     "name": "stdout",
     "output_type": "stream",
     "text": [
      "Emp ID :  [16]\n"
     ]
    },
    {
     "name": "stdin",
     "output_type": "stream",
     "text": [
      "Enter the attendance : 7\n"
     ]
    },
    {
     "name": "stdout",
     "output_type": "stream",
     "text": [
      "[9 7 9 8 7]\n",
      " Do you want to keep editing y/n (1/0) "
     ]
    },
    {
     "name": "stdin",
     "output_type": "stream",
     "text": [
      " 0\n"
     ]
    }
   ],
   "source": [
    "keep = True\n",
    "while keep is True:\n",
    "    print(\" 1 --> Change attendance : \")\n",
    "    print(\" 2 --> Change performance : \")\n",
    "    n = int(input())\n",
    "    if n == 1:\n",
    "        print(\" Enter employee id : \", end = \"\")\n",
    "        empp = int(input())\n",
    "        cng_att(empp)\n",
    "    elif n == 2:\n",
    "        print(\" Enter employee id : \", end = \"\")\n",
    "        empp = int(input())\n",
    "        performance(empp)\n",
    "    print(\" Do you want to keep editing y/n (1/0) \", end = \"\")\n",
    "    y = int(input())\n",
    "    if y == 0:\n",
    "        keep = False"
   ]
  },
  {
   "cell_type": "code",
   "execution_count": 58,
   "id": "c5112b2e-0246-4753-a001-8e4994212aca",
   "metadata": {},
   "outputs": [
    {
     "name": "stdout",
     "output_type": "stream",
     "text": [
      "[9 7 9 8 7]\n"
     ]
    }
   ],
   "source": [
    "print(perf)"
   ]
  },
  {
   "cell_type": "code",
   "execution_count": 59,
   "id": "2831ef58-2e20-43c2-b8d4-c4103ab8a59d",
   "metadata": {},
   "outputs": [],
   "source": [
    "import matplotlib.pyplot as plt"
   ]
  },
  {
   "cell_type": "code",
   "execution_count": 66,
   "id": "a01efae6-7f5b-4d4c-a969-fcf786ad567f",
   "metadata": {},
   "outputs": [
    {
     "data": {
      "image/png": "[encoded data removed]",
      "text/plain": [
       "<Figure size 640x480 with 1 Axes>"
      ]
     },
     "metadata": {},
     "output_type": "display_data"
    }
   ],
   "source": [
    "plt.scatter(emp,perf, color = 'red', s = 50)\n",
    "plt.title(\"Employee performance\")\n",
    "plt.legend('Employee performance')\n",
    "plt.show()"
   ]
  },
  {
   "cell_type": "code",
   "execution_count": null,
   "id": "53fb64b3-e1a5-4344-919e-970dd67cb4ed",
   "metadata": {},
   "outputs": [],
   "source": []
  }
 ],
 "metadata": {
  "kernelspec": {
   "display_name": "Python 3 (ipykernel)",
   "language": "python",
   "name": "python3"
  },
  "language_info": {
   "codemirror_mode": {
    "name": "ipython",
    "version": 3
   },
   "file_extension": ".py",
   "mimetype": "text/x-python",
   "name": "python",
   "nbconvert_exporter": "python",
   "pygments_lexer": "ipython3",
   "version": "3.12.4"
  }
 },
 "nbformat": 4,
 "nbformat_minor": 5
}
